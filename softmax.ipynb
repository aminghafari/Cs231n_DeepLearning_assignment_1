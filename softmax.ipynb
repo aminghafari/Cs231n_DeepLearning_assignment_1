{
 "cells": [
  {
   "cell_type": "markdown",
   "metadata": {},
   "source": [
    "# Softmax exercise\n",
    "\n",
    "*Complete and hand in this completed worksheet (including its outputs and any supporting code outside of the worksheet) with your assignment submission. For more details see the [assignments page](http://vision.stanford.edu/teaching/cs231n/assignments.html) on the course website.*\n",
    "\n",
    "This exercise is analogous to the SVM exercise. You will:\n",
    "\n",
    "- implement a fully-vectorized **loss function** for the Softmax classifier\n",
    "- implement the fully-vectorized expression for its **analytic gradient**\n",
    "- **check your implementation** with numerical gradient\n",
    "- use a validation set to **tune the learning rate and regularization** strength\n",
    "- **optimize** the loss function with **SGD**\n",
    "- **visualize** the final learned weights\n"
   ]
  },
  {
   "cell_type": "code",
   "execution_count": 2,
   "metadata": {
    "collapsed": false
   },
   "outputs": [],
   "source": [
    "import random\n",
    "import numpy as np\n",
    "from cs231n.data_utils import load_CIFAR10\n",
    "import matplotlib.pyplot as plt\n",
    "\n",
    "from __future__ import print_function\n",
    "\n",
    "%matplotlib inline\n",
    "plt.rcParams['figure.figsize'] = (10.0, 8.0) # set default size of plots\n",
    "plt.rcParams['image.interpolation'] = 'nearest'\n",
    "plt.rcParams['image.cmap'] = 'gray'\n",
    "\n",
    "# for auto-reloading extenrnal modules\n",
    "# see http://stackoverflow.com/questions/1907993/autoreload-of-modules-in-ipython\n",
    "%load_ext autoreload\n",
    "%autoreload 2"
   ]
  },
  {
   "cell_type": "code",
   "execution_count": 3,
   "metadata": {
    "collapsed": false
   },
   "outputs": [
    {
     "name": "stdout",
     "output_type": "stream",
     "text": [
      "Train data shape:  (49000, 3073)\n",
      "Train labels shape:  (49000,)\n",
      "Validation data shape:  (1000, 3073)\n",
      "Validation labels shape:  (1000,)\n",
      "Test data shape:  (1000, 3073)\n",
      "Test labels shape:  (1000,)\n",
      "dev data shape:  (500, 3073)\n",
      "dev labels shape:  (500,)\n"
     ]
    }
   ],
   "source": [
    "def get_CIFAR10_data(num_training=49000, num_validation=1000, num_test=1000, num_dev=500):\n",
    "    \"\"\"\n",
    "    Load the CIFAR-10 dataset from disk and perform preprocessing to prepare\n",
    "    it for the linear classifier. These are the same steps as we used for the\n",
    "    SVM, but condensed to a single function.  \n",
    "    \"\"\"\n",
    "    # Load the raw CIFAR-10 data\n",
    "    cifar10_dir = 'cs231n/datasets/cifar-10-batches-py'\n",
    "    X_train, y_train, X_test, y_test = load_CIFAR10(cifar10_dir)\n",
    "    \n",
    "    # subsample the data\n",
    "    mask = list(range(num_training, num_training + num_validation))\n",
    "    X_val = X_train[mask]\n",
    "    y_val = y_train[mask]\n",
    "    mask = list(range(num_training))\n",
    "    X_train = X_train[mask]\n",
    "    y_train = y_train[mask]\n",
    "    mask = list(range(num_test))\n",
    "    X_test = X_test[mask]\n",
    "    y_test = y_test[mask]\n",
    "    mask = np.random.choice(num_training, num_dev, replace=False)\n",
    "    X_dev = X_train[mask]\n",
    "    y_dev = y_train[mask]\n",
    "    \n",
    "    # Preprocessing: reshape the image data into rows\n",
    "    X_train = np.reshape(X_train, (X_train.shape[0], -1))\n",
    "    X_val = np.reshape(X_val, (X_val.shape[0], -1))\n",
    "    X_test = np.reshape(X_test, (X_test.shape[0], -1))\n",
    "    X_dev = np.reshape(X_dev, (X_dev.shape[0], -1))\n",
    "    \n",
    "    # Normalize the data: subtract the mean image\n",
    "    mean_image = np.mean(X_train, axis = 0)\n",
    "    X_train -= mean_image\n",
    "    X_val -= mean_image\n",
    "    X_test -= mean_image\n",
    "    X_dev -= mean_image\n",
    "    \n",
    "    # add bias dimension and transform into columns\n",
    "    X_train = np.hstack([X_train, np.ones((X_train.shape[0], 1))])\n",
    "    X_val = np.hstack([X_val, np.ones((X_val.shape[0], 1))])\n",
    "    X_test = np.hstack([X_test, np.ones((X_test.shape[0], 1))])\n",
    "    X_dev = np.hstack([X_dev, np.ones((X_dev.shape[0], 1))])\n",
    "    \n",
    "    return X_train, y_train, X_val, y_val, X_test, y_test, X_dev, y_dev\n",
    "\n",
    "\n",
    "# Invoke the above function to get our data.\n",
    "X_train, y_train, X_val, y_val, X_test, y_test, X_dev, y_dev = get_CIFAR10_data()\n",
    "print('Train data shape: ', X_train.shape)\n",
    "print('Train labels shape: ', y_train.shape)\n",
    "print('Validation data shape: ', X_val.shape)\n",
    "print('Validation labels shape: ', y_val.shape)\n",
    "print('Test data shape: ', X_test.shape)\n",
    "print('Test labels shape: ', y_test.shape)\n",
    "print('dev data shape: ', X_dev.shape)\n",
    "print('dev labels shape: ', y_dev.shape)"
   ]
  },
  {
   "cell_type": "markdown",
   "metadata": {},
   "source": [
    "## Softmax Classifier\n",
    "\n",
    "Your code for this section will all be written inside **cs231n/classifiers/softmax.py**. \n"
   ]
  },
  {
   "cell_type": "code",
   "execution_count": 4,
   "metadata": {
    "collapsed": false
   },
   "outputs": [
    {
     "name": "stdout",
     "output_type": "stream",
     "text": [
      "loss: 2.388879\n",
      "sanity check: 2.302585\n"
     ]
    }
   ],
   "source": [
    "# First implement the naive softmax loss function with nested loops.\n",
    "# Open the file cs231n/classifiers/softmax.py and implement the\n",
    "# softmax_loss_naive function.\n",
    "\n",
    "from cs231n.classifiers.softmax import softmax_loss_naive\n",
    "import time\n",
    "\n",
    "# Generate a random softmax weight matrix and use it to compute the loss.\n",
    "W = np.random.randn(3073, 10) * 0.0001\n",
    "loss, grad = softmax_loss_naive(W, X_dev, y_dev, 0.0)\n",
    "# As a rough sanity check, our loss should be something close to -log(0.1).\n",
    "print('loss: %f' % loss)\n",
    "print('sanity check: %f' % (-np.log(0.1)))"
   ]
  },
  {
   "cell_type": "markdown",
   "metadata": {},
   "source": [
    "## Inline Question 1:\n",
    "Why do we expect our loss to be close to -log(0.1)? Explain briefly.**\n",
    "\n",
    "**Your answer:** *Fill this in*\n"
   ]
  },
  {
   "cell_type": "code",
   "execution_count": 5,
   "metadata": {
    "collapsed": false
   },
   "outputs": [
    {
     "name": "stdout",
     "output_type": "stream",
     "text": [
      "numerical: 1.626573 analytic: 1.626573, relative error: 3.572921e-08\n",
      "numerical: -0.220765 analytic: -0.220765, relative error: 1.430851e-07\n",
      "numerical: 1.991747 analytic: 1.991747, relative error: 3.418511e-08\n",
      "numerical: -1.917300 analytic: -1.917300, relative error: 3.596169e-08\n",
      "numerical: -3.462431 analytic: -3.462431, relative error: 3.750465e-09\n",
      "numerical: -1.568334 analytic: -1.568334, relative error: 2.567199e-08\n",
      "numerical: 0.887294 analytic: 0.887294, relative error: 4.907180e-08\n",
      "numerical: -6.796958 analytic: -6.796958, relative error: 9.756521e-10\n",
      "numerical: -6.121201 analytic: -6.121202, relative error: 6.528568e-09\n",
      "numerical: -0.599657 analytic: -0.599657, relative error: 9.986597e-09\n",
      "numerical: -5.696323 analytic: -5.696323, relative error: 4.329714e-09\n",
      "numerical: -2.940237 analytic: -2.940237, relative error: 1.007016e-08\n",
      "numerical: -0.120879 analytic: -0.120880, relative error: 5.456673e-07\n",
      "numerical: -1.926146 analytic: -1.926146, relative error: 5.880766e-08\n",
      "numerical: 4.204601 analytic: 4.204601, relative error: 2.336618e-09\n",
      "numerical: 2.960484 analytic: 2.960484, relative error: 1.428868e-08\n",
      "numerical: -1.091106 analytic: -1.091106, relative error: 4.617261e-08\n",
      "numerical: -1.319061 analytic: -1.319061, relative error: 3.540971e-08\n",
      "numerical: -1.435169 analytic: -1.435169, relative error: 5.547183e-08\n",
      "numerical: -0.173439 analytic: -0.173439, relative error: 3.702043e-07\n"
     ]
    }
   ],
   "source": [
    "# Complete the implementation of softmax_loss_naive and implement a (naive)\n",
    "# version of the gradient that uses nested loops.\n",
    "loss, grad = softmax_loss_naive(W, X_dev, y_dev, 0.0)\n",
    "\n",
    "# As we did for the SVM, use numeric gradient checking as a debugging tool.\n",
    "# The numeric gradient should be close to the analytic gradient.\n",
    "from cs231n.gradient_check import grad_check_sparse\n",
    "f = lambda w: softmax_loss_naive(w, X_dev, y_dev, 0.0)[0]\n",
    "grad_numerical = grad_check_sparse(f, W, grad, 10)\n",
    "\n",
    "# similar to SVM case, do another gradient check with regularization\n",
    "loss, grad = softmax_loss_naive(W, X_dev, y_dev, 5e1)\n",
    "f = lambda w: softmax_loss_naive(w, X_dev, y_dev, 5e1)[0]\n",
    "grad_numerical = grad_check_sparse(f, W, grad, 10)"
   ]
  },
  {
   "cell_type": "code",
   "execution_count": 45,
   "metadata": {
    "collapsed": false
   },
   "outputs": [
    {
     "name": "stdout",
     "output_type": "stream",
     "text": [
      "naive loss: 2.388879e+00 computed in 0.192612s\n",
      "vectorized loss: 2.388879e+00 computed in 0.005510s\n",
      "Loss difference: 0.000000\n",
      "Gradient difference: 0.000000\n"
     ]
    }
   ],
   "source": [
    "# Now that we have a naive implementation of the softmax loss function and its gradient,\n",
    "# implement a vectorized version in softmax_loss_vectorized.\n",
    "# The two versions should compute the same results, but the vectorized version should be\n",
    "# much faster.\n",
    "tic = time.time()\n",
    "loss_naive, grad_naive = softmax_loss_naive(W, X_dev, y_dev, 0.000005)\n",
    "toc = time.time()\n",
    "print('naive loss: %e computed in %fs' % (loss_naive, toc - tic))\n",
    "\n",
    "from cs231n.classifiers.softmax import softmax_loss_vectorized\n",
    "tic = time.time()\n",
    "loss_vectorized, grad_vectorized = softmax_loss_vectorized(W, X_dev, y_dev, 0.000005)\n",
    "toc = time.time()\n",
    "print('vectorized loss: %e computed in %fs' % (loss_vectorized, toc - tic))\n",
    "\n",
    "# As we did for the SVM, we use the Frobenius norm to compare the two versions\n",
    "# of the gradient.\n",
    "grad_difference = np.linalg.norm(grad_naive - grad_vectorized, ord='fro')\n",
    "print('Loss difference: %f' % np.abs(loss_naive - loss_vectorized))\n",
    "print('Gradient difference: %f' % grad_difference)"
   ]
  },
  {
   "cell_type": "code",
   "execution_count": 50,
   "metadata": {
    "collapsed": false
   },
   "outputs": [
    {
     "name": "stdout",
     "output_type": "stream",
     "text": [
      "iteration 0 / 1500: loss 314.087126\n",
      "iteration 100 / 1500: loss 209.871380\n",
      "iteration 200 / 1500: loss 140.748987\n",
      "iteration 300 / 1500: loss 94.795314\n",
      "iteration 400 / 1500: loss 64.081902\n",
      "iteration 500 / 1500: loss 43.538556\n",
      "iteration 600 / 1500: loss 29.684620\n",
      "iteration 700 / 1500: loss 20.559303\n",
      "iteration 800 / 1500: loss 14.496681\n",
      "iteration 900 / 1500: loss 10.320790\n",
      "iteration 1000 / 1500: loss 7.486502\n",
      "iteration 1100 / 1500: loss 5.771140\n",
      "iteration 1200 / 1500: loss 4.541067\n",
      "iteration 1300 / 1500: loss 3.650068\n",
      "iteration 1400 / 1500: loss 3.149489\n",
      "training accuracy: 0.351041\n",
      "validation accuracy: 0.361000\n",
      "iteration 0 / 1500: loss 6.035404\n",
      "iteration 100 / 1500: loss 2.658767\n",
      "iteration 200 / 1500: loss 2.201039\n",
      "iteration 300 / 1500: loss 2.153765\n",
      "iteration 400 / 1500: loss 2.173332\n",
      "iteration 500 / 1500: loss 2.131278\n",
      "iteration 600 / 1500: loss 2.124152\n",
      "iteration 700 / 1500: loss 2.150731\n",
      "iteration 800 / 1500: loss 2.121469\n",
      "iteration 900 / 1500: loss 2.146823\n",
      "iteration 1000 / 1500: loss 2.117151\n",
      "iteration 1100 / 1500: loss 2.149348\n",
      "iteration 1200 / 1500: loss 2.206864\n",
      "iteration 1300 / 1500: loss 2.111798\n",
      "iteration 1400 / 1500: loss 2.150755\n",
      "training accuracy: 0.300061\n",
      "validation accuracy: 0.315000\n",
      "iteration 0 / 1500: loss 2.085537\n",
      "iteration 100 / 1500: loss 2.031458\n",
      "iteration 200 / 1500: loss 1.955177\n",
      "iteration 300 / 1500: loss 1.977657\n",
      "iteration 400 / 1500: loss 2.004654\n",
      "iteration 500 / 1500: loss 2.048938\n",
      "iteration 600 / 1500: loss 2.013609\n",
      "iteration 700 / 1500: loss 1.953568\n",
      "iteration 800 / 1500: loss 2.016095\n",
      "iteration 900 / 1500: loss 1.953154\n",
      "iteration 1000 / 1500: loss 2.023297\n",
      "iteration 1100 / 1500: loss 2.074138\n",
      "iteration 1200 / 1500: loss 2.013819\n",
      "iteration 1300 / 1500: loss 2.034952\n",
      "iteration 1400 / 1500: loss 1.997390\n",
      "training accuracy: 0.352776\n",
      "validation accuracy: 0.359000\n",
      "iteration 0 / 1500: loss 2.375153\n",
      "iteration 100 / 1500: loss 2.150653\n",
      "iteration 200 / 1500: loss 2.134444\n",
      "iteration 300 / 1500: loss 2.093719\n",
      "iteration 400 / 1500: loss 2.175150\n",
      "iteration 500 / 1500: loss 2.139795\n",
      "iteration 600 / 1500: loss 2.128095\n",
      "iteration 700 / 1500: loss 2.122531\n",
      "iteration 800 / 1500: loss 2.149718\n",
      "iteration 900 / 1500: loss 2.161797\n",
      "iteration 1000 / 1500: loss 2.129721\n",
      "iteration 1100 / 1500: loss 2.150839\n",
      "iteration 1200 / 1500: loss 2.165349\n",
      "iteration 1300 / 1500: loss 2.147241\n",
      "iteration 1400 / 1500: loss 2.174970\n",
      "training accuracy: 0.291857\n",
      "validation accuracy: 0.305000\n",
      "lr 1.000000e-07 reg 1.000000e+04 train accuracy: 0.351041 val accuracy: 0.361000\n",
      "lr 1.000000e-07 reg 5.000000e+04 train accuracy: 0.300061 val accuracy: 0.315000\n",
      "lr 2.000000e-07 reg 1.000000e+04 train accuracy: 0.352776 val accuracy: 0.359000\n",
      "lr 2.000000e-07 reg 5.000000e+04 train accuracy: 0.291857 val accuracy: 0.305000\n",
      "best validation accuracy achieved during cross-validation: 0.361000\n"
     ]
    }
   ],
   "source": [
    "# Use the validation set to tune hyperparameters (regularization strength and\n",
    "# learning rate). You should experiment with different ranges for the learning\n",
    "# rates and regularization strengths; if you are careful you should be able to\n",
    "# get a classification accuracy of over 0.35 on the validation set.\n",
    "from cs231n.classifiers import Softmax\n",
    "results = {}\n",
    "best_val = -1\n",
    "best_softmax = None\n",
    "learning_rates = [1e-7, 2e-7]\n",
    "regularization_strengths = [1e4, 5e4]\n",
    "\n",
    "################################################################################\n",
    "# TODO:                                                                        #\n",
    "# Use the validation set to set the learning rate and regularization strength. #\n",
    "# This should be identical to the validation that you did for the SVM; save    #\n",
    "# the best trained softmax classifer in best_softmax.                          #\n",
    "################################################################################\n",
    "best_softmax = Softmax()\n",
    "softmax = Softmax()\n",
    "for l_rate in learning_rates :\n",
    "    for r_s in regularization_strengths :\n",
    "        loss_hist = softmax.train(X_train, y_train, l_rate, r_s,\n",
    "                      num_iters=1500, verbose=True)\n",
    "        y_train_pred = softmax.predict(X_train)\n",
    "        y_train_mean = np.mean(y_train == y_train_pred)\n",
    "        print('training accuracy: %f' % (np.mean(y_train == y_train_pred), ))\n",
    "        y_val_pred = softmax.predict(X_val)\n",
    "        print('validation accuracy: %f' % (np.mean(y_val == y_val_pred), ))\n",
    "        y_val_mean = np.mean(y_val == y_val_pred)\n",
    "        results[l_rate, r_s]= (y_train_mean, y_val_mean)\n",
    "        if(best_val<y_val_mean):\n",
    "            best_val = y_val_mean\n",
    "            best_softmax = softmax\n",
    "################################################################################\n",
    "#                              END OF YOUR CODE                                #\n",
    "################################################################################\n",
    "    \n",
    "# Print out results.\n",
    "for lr, reg in sorted(results):\n",
    "    train_accuracy, val_accuracy = results[(lr, reg)]\n",
    "    print('lr %e reg %e train accuracy: %f val accuracy: %f' % (\n",
    "                lr, reg, train_accuracy, val_accuracy))\n",
    "    \n",
    "print('best validation accuracy achieved during cross-validation: %f' % best_val)"
   ]
  },
  {
   "cell_type": "code",
   "execution_count": 51,
   "metadata": {
    "collapsed": false
   },
   "outputs": [
    {
     "name": "stdout",
     "output_type": "stream",
     "text": [
      "softmax on raw pixels final test set accuracy: 0.314000\n"
     ]
    }
   ],
   "source": [
    "# evaluate on test set\n",
    "# Evaluate the best softmax on test set\n",
    "y_test_pred = best_softmax.predict(X_test)\n",
    "test_accuracy = np.mean(y_test == y_test_pred)\n",
    "print('softmax on raw pixels final test set accuracy: %f' % (test_accuracy, ))"
   ]
  },
  {
   "cell_type": "code",
   "execution_count": 52,
   "metadata": {
    "collapsed": false
   },
   "outputs": [
    {
     "data": {
      "image/png": "[encoded data removed]",
      "text/plain": [
       "<matplotlib.figure.Figure at 0x7f0d40c1dd30>"
      ]
     },
     "metadata": {},
     "output_type": "display_data"
    }
   ],
   "source": [
    "# Visualize the learned weights for each class\n",
    "w = best_softmax.W[:-1,:] # strip out the bias\n",
    "w = w.reshape(32, 32, 3, 10)\n",
    "\n",
    "w_min, w_max = np.min(w), np.max(w)\n",
    "\n",
    "classes = ['plane', 'car', 'bird', 'cat', 'deer', 'dog', 'frog', 'horse', 'ship', 'truck']\n",
    "for i in range(10):\n",
    "    plt.subplot(2, 5, i + 1)\n",
    "    \n",
    "    # Rescale the weights to be between 0 and 255\n",
    "    wimg = 255.0 * (w[:, :, :, i].squeeze() - w_min) / (w_max - w_min)\n",
    "    plt.imshow(wimg.astype('uint8'))\n",
    "    plt.axis('off')\n",
    "    plt.title(classes[i])"
   ]
  },
  {
   "cell_type": "code",
   "execution_count": null,
   "metadata": {
    "collapsed": true
   },
   "outputs": [],
   "source": []
  }
 ],
 "metadata": {
  "kernelspec": {
   "display_name": "Python 3",
   "language": "python",
   "name": "python3"
  },
  "language_info": {
   "codemirror_mode": {
    "name": "ipython",
    "version": 3
   },
   "file_extension": ".py",
   "mimetype": "text/x-python",
   "name": "python",
   "nbconvert_exporter": "python",
   "pygments_lexer": "ipython3",
   "version": "3.6.0"
  }
 },
 "nbformat": 4,
 "nbformat_minor": 0
}
